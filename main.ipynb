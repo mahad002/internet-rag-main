{
 "cells": [
  {
   "cell_type": "code",
   "execution_count": 1,
   "metadata": {},
   "outputs": [
    {
     "name": "stdout",
     "output_type": "stream",
     "text": [
      "Requirement already satisfied: exa_py in ./myenv/lib/python3.10/site-packages (1.0.12)\n",
      "Requirement already satisfied: requests in ./myenv/lib/python3.10/site-packages (from exa_py) (2.32.3)\n",
      "Requirement already satisfied: typing-extensions in ./myenv/lib/python3.10/site-packages (from exa_py) (4.12.2)\n",
      "Requirement already satisfied: openai in ./myenv/lib/python3.10/site-packages (from exa_py) (1.35.3)\n",
      "Requirement already satisfied: anyio<5,>=3.5.0 in ./myenv/lib/python3.10/site-packages (from openai->exa_py) (4.4.0)\n",
      "Requirement already satisfied: distro<2,>=1.7.0 in ./myenv/lib/python3.10/site-packages (from openai->exa_py) (1.9.0)\n",
      "Requirement already satisfied: httpx<1,>=0.23.0 in ./myenv/lib/python3.10/site-packages (from openai->exa_py) (0.27.0)\n",
      "Requirement already satisfied: pydantic<3,>=1.9.0 in ./myenv/lib/python3.10/site-packages (from openai->exa_py) (2.7.4)\n",
      "Requirement already satisfied: sniffio in ./myenv/lib/python3.10/site-packages (from openai->exa_py) (1.3.1)\n",
      "Requirement already satisfied: tqdm>4 in ./myenv/lib/python3.10/site-packages (from openai->exa_py) (4.66.4)\n",
      "Requirement already satisfied: charset-normalizer<4,>=2 in ./myenv/lib/python3.10/site-packages (from requests->exa_py) (3.3.2)\n",
      "Requirement already satisfied: idna<4,>=2.5 in ./myenv/lib/python3.10/site-packages (from requests->exa_py) (3.7)\n",
      "Requirement already satisfied: urllib3<3,>=1.21.1 in ./myenv/lib/python3.10/site-packages (from requests->exa_py) (2.2.2)\n",
      "Requirement already satisfied: certifi>=2017.4.17 in ./myenv/lib/python3.10/site-packages (from requests->exa_py) (2024.6.2)\n",
      "Requirement already satisfied: exceptiongroup>=1.0.2 in ./myenv/lib/python3.10/site-packages (from anyio<5,>=3.5.0->openai->exa_py) (1.2.1)\n",
      "Requirement already satisfied: httpcore==1.* in ./myenv/lib/python3.10/site-packages (from httpx<1,>=0.23.0->openai->exa_py) (1.0.5)\n",
      "Requirement already satisfied: h11<0.15,>=0.13 in ./myenv/lib/python3.10/site-packages (from httpcore==1.*->httpx<1,>=0.23.0->openai->exa_py) (0.14.0)\n",
      "Requirement already satisfied: annotated-types>=0.4.0 in ./myenv/lib/python3.10/site-packages (from pydantic<3,>=1.9.0->openai->exa_py) (0.7.0)\n",
      "Requirement already satisfied: pydantic-core==2.18.4 in ./myenv/lib/python3.10/site-packages (from pydantic<3,>=1.9.0->openai->exa_py) (2.18.4)\n",
      "Note: you may need to restart the kernel to use updated packages.\n",
      "Requirement already satisfied: python-dotenv in ./myenv/lib/python3.10/site-packages (1.0.1)\n",
      "Note: you may need to restart the kernel to use updated packages.\n"
     ]
    }
   ],
   "source": [
    "%pip install exa_py\n",
    "%pip install python-dotenv"
   ]
  },
  {
   "cell_type": "code",
   "execution_count": 2,
   "metadata": {},
   "outputs": [],
   "source": [
    "import os\n",
    "from dotenv import load_dotenv # pip install python-dotenv\n",
    "load_dotenv()\n",
    "openai_api_key = os.getenv(\"OPENAI_API_KEY\")\n",
    "exa_api_key = os.getenv(\"EXA_API_KEY\")"
   ]
  },
  {
   "cell_type": "code",
   "execution_count": 3,
   "metadata": {},
   "outputs": [],
   "source": [
    "from exa_py import Exa\n",
    "\n",
    "exa = Exa(exa_api_key)"
   ]
  },
  {
   "cell_type": "code",
   "execution_count": 4,
   "metadata": {},
   "outputs": [],
   "source": [
    "from openai import OpenAI\n",
    "\n",
    "openai_client = OpenAI(api_key=openai_api_key)"
   ]
  },
  {
   "cell_type": "code",
   "execution_count": 5,
   "metadata": {},
   "outputs": [],
   "source": [
    "questions = [\n",
    "    \"How did bats evolve their wings?\",\n",
    "    \"How did Rome defend Italy from Hannibal?\",\n",
    "]"
   ]
  },
  {
   "cell_type": "code",
   "execution_count": 6,
   "metadata": {},
   "outputs": [],
   "source": [
    "highlights_options  = {\n",
    "    \"num_sentences\": 7, # how long our highlights should be\n",
    "    \"highlights_per_url\": 1, # just get the best highlight for each URL\n",
    "}\n",
    "\n",
    "# Let the magic happen!\n",
    "info_for_llm = []\n",
    "for question in questions:\n",
    "    search_response = exa.search_and_contents(question, highlights=highlights_options, num_results=3, use_autoprompt=True)\n",
    "    info = [sr.highlights[0] for sr in search_response.results]\n",
    "    info_for_llm.append(info)"
   ]
  },
  {
   "cell_type": "code",
   "execution_count": 7,
   "metadata": {},
   "outputs": [
    {
     "data": {
      "text/plain": [
       "[['Onychonycteris finneyi, the earliest known bat, already possessed powered flight. O. finneyi likely had an undulating flight style that alternated periods of fluttering with gliding. Evidence for this lies in the broad and short nature of O. finneyi wing morphology, which would have made it difficult to efficiently maneuver in the air or sustain flight. Additionally claws were seen on the ends of their forelimb digits (which have since disappeared in modern day bats) giving evidence that O. finneyi was a skilled climber. The common ancestor of all bats is hypothesized to have been an arboreal quadruped of the northern hemisphere. This ancestor is predicted to have lived 64 million years ago at the border of the Cretaceous and Paleogene, based on molecular and paleontological data. There is a gap in the fossil record, and no transitional fossils exist from this quadrupedal ancestor to the appearance of the modern bat.',\n",
       "  'It is, of course, one of the most notable things about bats: they can fly. To do this, they have wings. Wings that are composed of a double membrane stretched, over a framework of finger bones. See bat anatomy for more on wing structure. Well, flight is a fascinating thing. In the human mind it symbolizes freedom and it is quite likely that it first evolved – via gliding – as an escape mechanism. If you are in a tree and an enemy is behind you – and you can safely jump out of the tree and he can’t – you are definitely on a winner.',\n",
       "  'They can fold their wings, the way we can move our fingers! They can fold them into different shapes and change directions very quickly. They can also apply sudden brakes. Bats have strong muscles in their backs and chest. Some of these muscles pull the wings up in an “up-stroke” and some of these bring them down during “down-stroke“. Bats fold their wings while they are making an “up-stroke”. This reduces the opposition from the air (Air Resistance) and they save their effort.'],\n",
       " [\"But there was one problem,his fleet was tiny and Rome ruled the seas.By land,the coastal route would be blocked by Roman forces and her ally-the great walled city of massalia.Hannibal thus resolved to think and do the impossible - move thousands of miles by land through the pyranees mountains,uncharted territory inhabited by the fierce gauls ,then through the Alps mountains and invade italy. Even before the siege of Saguntum had concluded,Hannibal had set things in motion.Having sent a number of embassies to the Gallic tribes in the Po valley with the mission of establishing a safe place for Hannibal to debouch from the Alps into the Po valley. He did not desire to cross this rugged mountain chain and to descend into the Po valley with exhausted troops only to have to fight a battle.Additionally the fierce gauls would provide a source of manpower for Hannibal's army.The romans had recently conquered much territory from the gauls in this area,brutally subjagating them ,seizing their land and redistributing it to roman colonists.Thus securing an alliance proved to be easy. After the sack of Saguntum he dismissed his troops to their own localities. He did this with the hope of cultivating the best possible morale in his army for the upcoming campaign, which he knew was going to be difficult. He left his brother,Hasdrubal in charge of the administration of Carthaginian Iberia, as well as its defense against the Romans. In addition to this, he swapped the native troops of Iberia to Africa, and the native troops of Africa to Iberia.\",\n",
       "  \"You have found yourself camped by the river Trebia for several days (1). You have heard of the man leading the army you face, he is Hannibal Barca, sacker of the city of Saguntum and crosser of the Alps. Now he has raised the local Gauls in Italy against Rome herself, and you sit here waiting for Tiberius Sempronius Longus to reinforce you. Gossip of defections in the night is rife among the men . Gauls slipping from the camp to join forces with the rebellious tribes in Hannibal's army (2). Even that some guards have been killed by these vile shadows of men. And here you sit, waiting for your reinforcements, on the banks of the river Trebia.\",\n",
       "  'Like other reformers, Hannibal had many enemies, and he knew that he must escape from Carthage if he would not fall into the hands of Rome. So he fled from his own country, and after some adventures by the way, he at length reached Ephesus, where he offered his services, Meanwhile, in 193 B.C., envoys from Rome arrived at the']]"
      ]
     },
     "execution_count": 7,
     "metadata": {},
     "output_type": "execute_result"
    }
   ],
   "source": [
    "info_for_llm"
   ]
  },
  {
   "cell_type": "code",
   "execution_count": 8,
   "metadata": {},
   "outputs": [],
   "source": [
    "responses = []\n",
    "for question, info in zip(questions, info_for_llm):\n",
    "  system_prompt = \"You are RAG researcher. Read the provided contexts and, if relevant, use them to answer the user's question.\"\n",
    "  user_prompt = f\"\"\"Sources: {info}\n",
    "  \n",
    "  Question: {question}\"\"\"\n",
    "\n",
    "  completion = openai_client.chat.completions.create(\n",
    "    model=\"gpt-3.5-turbo\",\n",
    "    messages=[\n",
    "      {\"role\": \"system\", \"content\": system_prompt},\n",
    "      {\"role\": \"user\", \"content\": user_prompt},\n",
    "    ]\n",
    "  )\n",
    "  response = f\"\"\"\n",
    "  Question: {question}\n",
    "  Answer: {completion.choices[0].message.content}\n",
    "  \"\"\"\n",
    "  responses.append(response)"
   ]
  },
  {
   "cell_type": "code",
   "execution_count": 9,
   "metadata": {},
   "outputs": [
    {
     "name": "stdout",
     "output_type": "stream",
     "text": [
      "['\\n'\n",
      " '  Question: How did bats evolve their wings?\\n'\n",
      " '  Answer: Bats evolved their wings from a double membrane stretched over a '\n",
      " 'framework of finger bones. The wing structure of bats consists of '\n",
      " 'specialized modifications of their forelimbs, allowing for powered flight. '\n",
      " 'This adaptation is believed to have evolved from gliding as an escape '\n",
      " 'mechanism, enabling early bat ancestors to navigate and evade threats in '\n",
      " 'their arboreal habitats. The evolutionary process of developing wings '\n",
      " 'enabled bats to efficiently maneuver in the air, allowing them to fly, '\n",
      " 'change directions quickly, and even apply sudden brakes.\\n'\n",
      " '  ',\n",
      " '\\n'\n",
      " '  Question: How did Rome defend Italy from Hannibal?\\n'\n",
      " '  Answer: Rome defended Italy from Hannibal by ruling the seas with their '\n",
      " 'superior fleet and blocking the coastal route by land, including the route '\n",
      " 'through the coastal city of Massalia. Hannibal, in response, chose to take '\n",
      " 'the daring route of moving thousands of miles by land through the Pyrenees '\n",
      " 'and Alps mountains to invade Italy. Additionally, Rome had previously '\n",
      " 'conquered much territory from the Gauls in the Po valley area, brutally '\n",
      " 'subjugating them. Hannibal secured an alliance with the Gauls, who provided '\n",
      " 'additional manpower for his army.\\n'\n",
      " '  ']\n"
     ]
    }
   ],
   "source": [
    "from pprint import pprint # pretty print\n",
    "pprint(responses)"
   ]
  },
  {
   "cell_type": "code",
   "execution_count": null,
   "metadata": {},
   "outputs": [],
   "source": []
  }
 ],
 "metadata": {
  "kernelspec": {
   "display_name": "myenv",
   "language": "python",
   "name": "python3"
  },
  "language_info": {
   "codemirror_mode": {
    "name": "ipython",
    "version": 3
   },
   "file_extension": ".py",
   "mimetype": "text/x-python",
   "name": "python",
   "nbconvert_exporter": "python",
   "pygments_lexer": "ipython3",
   "version": "3.10.7"
  }
 },
 "nbformat": 4,
 "nbformat_minor": 2
}
